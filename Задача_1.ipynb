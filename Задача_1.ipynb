{
  "nbformat": 4,
  "nbformat_minor": 0,
  "metadata": {
    "colab": {
      "name": "Задача 1.ipynb",
      "provenance": []
    },
    "kernelspec": {
      "name": "python3",
      "display_name": "Python 3"
    },
    "language_info": {
      "name": "python"
    }
  },
  "cells": [
    {
      "cell_type": "code",
      "metadata": {
        "id": "aCRC_SjtIGBf",
        "colab": {
          "base_uri": "https://localhost:8080/",
          "height": 200
        },
        "outputId": "23848b62-28d9-4ed2-a994-5b878b038aab"
      },
      "source": [
        "with open('sentences.txt','r') as file_sent:\n",
        "  lines = file_sent.readlines() # создаём список из строк\n",
        "  print(lines)"
      ],
      "execution_count": null,
      "outputs": [
        {
          "output_type": "error",
          "ename": "FileNotFoundError",
          "evalue": "ignored",
          "traceback": [
            "\u001b[0;31m---------------------------------------------------------------------------\u001b[0m",
            "\u001b[0;31mFileNotFoundError\u001b[0m                         Traceback (most recent call last)",
            "\u001b[0;32m<ipython-input-1-8beb7156195d>\u001b[0m in \u001b[0;36m<module>\u001b[0;34m()\u001b[0m\n\u001b[0;32m----> 1\u001b[0;31m \u001b[0;32mwith\u001b[0m \u001b[0mopen\u001b[0m\u001b[0;34m(\u001b[0m\u001b[0;34m'sentences.txt'\u001b[0m\u001b[0;34m,\u001b[0m\u001b[0;34m'r'\u001b[0m\u001b[0;34m)\u001b[0m \u001b[0;32mas\u001b[0m \u001b[0mfile_sent\u001b[0m\u001b[0;34m:\u001b[0m\u001b[0;34m\u001b[0m\u001b[0;34m\u001b[0m\u001b[0m\n\u001b[0m\u001b[1;32m      2\u001b[0m   \u001b[0mlines\u001b[0m \u001b[0;34m=\u001b[0m \u001b[0mfile_sent\u001b[0m\u001b[0;34m.\u001b[0m\u001b[0mreadlines\u001b[0m\u001b[0;34m(\u001b[0m\u001b[0;34m)\u001b[0m \u001b[0;31m# создаём список из строк\u001b[0m\u001b[0;34m\u001b[0m\u001b[0;34m\u001b[0m\u001b[0m\n\u001b[1;32m      3\u001b[0m   \u001b[0mprint\u001b[0m\u001b[0;34m(\u001b[0m\u001b[0mlines\u001b[0m\u001b[0;34m)\u001b[0m\u001b[0;34m\u001b[0m\u001b[0;34m\u001b[0m\u001b[0m\n",
            "\u001b[0;31mFileNotFoundError\u001b[0m: [Errno 2] No such file or directory: 'sentences.txt'"
          ]
        }
      ]
    },
    {
      "cell_type": "code",
      "metadata": {
        "id": "sx0i55MsJ01e"
      },
      "source": [
        "lines_temp = []\n",
        "for line in lines: # перевод каждой строки в нижний регистр\n",
        "  lines_temp.append(line.lower())\n",
        "lines = lines_temp"
      ],
      "execution_count": null,
      "outputs": []
    },
    {
      "cell_type": "code",
      "metadata": {
        "id": "wUO1yn07Og-v"
      },
      "source": [
        "lines = list(map(lambda x: x.lower(), lines)) # 2 способ перевода каждой строки в нижний регистр"
      ],
      "execution_count": null,
      "outputs": []
    },
    {
      "cell_type": "code",
      "metadata": {
        "id": "1j512u7oKZue"
      },
      "source": [
        "import re\n",
        "lines = list(map(lambda line: re.split('[^a-z]', line), lines))"
      ],
      "execution_count": null,
      "outputs": []
    },
    {
      "cell_type": "code",
      "metadata": {
        "colab": {
          "base_uri": "https://localhost:8080/"
        },
        "id": "s0Yvr0lQLwWf",
        "outputId": "c2d945d8-c4c0-4839-a100-f01c1fb45c2b"
      },
      "source": [
        "print(lines)"
      ],
      "execution_count": null,
      "outputs": [
        {
          "output_type": "stream",
          "text": [
            "[['in', 'comparison', 'to', 'dogs', '', 'cats', 'have', 'not', 'undergone', 'major', 'changes', 'during', 'the', 'domestication', 'process', '', ''], ['as', 'cat', 'simply', 'catenates', 'streams', 'of', 'bytes', '', 'it', 'can', 'be', 'also', 'used', 'to', 'concatenate', 'binary', 'files', '', 'where', 'it', 'will', 'just', 'concatenate', 'sequence', 'of', 'bytes', '', ''], ['a', 'common', 'interactive', 'use', 'of', 'cat', 'for', 'a', 'single', 'file', 'is', 'to', 'output', 'the', 'content', 'of', 'a', 'file', 'to', 'standard', 'output', '', ''], ['cats', 'can', 'hear', 'sounds', 'too', 'faint', 'or', 'too', 'high', 'in', 'frequency', 'for', 'human', 'ears', '', 'such', 'as', 'those', 'made', 'by', 'mice', 'and', 'other', 'small', 'animals', '', ''], ['in', 'one', '', 'people', 'deliberately', 'tamed', 'cats', 'in', 'a', 'process', 'of', 'artificial', 'selection', '', 'as', 'they', 'were', 'useful', 'predators', 'of', 'vermin', '', ''], ['the', 'domesticated', 'cat', 'and', 'its', 'closest', 'wild', 'ancestor', 'are', 'both', 'diploid', 'organisms', 'that', 'possess', '', '', '', 'chromosomes', 'and', 'roughly', '', '', '', '', '', '', '', 'genes', '', ''], ['domestic', 'cats', 'are', 'similar', 'in', 'size', 'to', 'the', 'other', 'members', 'of', 'the', 'genus', 'felis', '', 'typically', 'weighing', 'between', '', '', 'and', '', '', 'kg', '', '', '', '', '', 'and', '', '', '', '', '', 'lb', '', '', ''], ['however', '', 'if', 'the', 'output', 'is', 'piped', 'or', 'redirected', '', 'cat', 'is', 'unnecessary', '', ''], ['cat', 'with', 'one', 'named', 'file', 'is', 'safer', 'where', 'human', 'error', 'is', 'a', 'concern', '', '', 'one', 'wrong', 'use', 'of', 'the', 'default', 'redirection', 'symbol', '', '', '', '', 'instead', 'of', '', '', '', '', '', 'often', 'adjacent', 'on', 'keyboards', '', 'may', 'permanently', 'delete', 'the', 'file', 'you', 'were', 'just', 'needing', 'to', 'read', '', ''], ['in', 'terms', 'of', 'legibility', '', 'a', 'sequence', 'of', 'commands', 'starting', 'with', 'cat', 'and', 'connected', 'by', 'pipes', 'has', 'a', 'clear', 'left', 'to', 'right', 'flow', 'of', 'information', '', ''], ['cat', 'command', 'is', 'one', 'of', 'the', 'basic', 'commands', 'that', 'you', 'learned', 'when', 'you', 'started', 'in', 'the', 'unix', '', '', 'linux', 'world', '', ''], ['using', 'cat', 'command', '', 'the', 'lines', 'received', 'from', 'stdin', 'can', 'be', 'redirected', 'to', 'a', 'new', 'file', 'using', 'redirection', 'symbols', '', ''], ['when', 'you', 'type', 'simply', 'cat', 'command', 'without', 'any', 'arguments', '', 'it', 'just', 'receives', 'the', 'stdin', 'content', 'and', 'displays', 'it', 'in', 'the', 'stdout', '', ''], ['leopard', 'was', 'released', 'on', 'october', '', '', '', '', '', '', '', '', '', 'as', 'the', 'successor', 'of', 'tiger', '', 'version', '', '', '', '', '', '', '', 'and', 'is', 'available', 'in', 'two', 'editions', '', ''], ['according', 'to', 'apple', '', 'leopard', 'contains', 'over', '', '', '', '', 'changes', 'and', 'enhancements', 'over', 'its', 'predecessor', '', 'mac', 'os', 'x', 'tiger', '', ''], ['as', 'of', 'mid', '', '', '', '', '', '', 'some', 'apple', 'computers', 'have', 'firmware', 'factory', 'installed', 'which', 'will', 'no', 'longer', 'allow', 'installation', 'of', 'mac', 'os', 'x', 'leopard', '', ''], ['since', 'apple', 'moved', 'to', 'using', 'intel', 'processors', 'in', 'their', 'computers', '', 'the', 'osx', '', '', 'community', 'has', 'developed', 'and', 'now', 'also', 'allows', 'mac', 'os', 'x', 'tiger', 'and', 'later', 'releases', 'to', 'be', 'installed', 'on', 'non', 'apple', 'x', '', '', 'based', 'computers', '', ''], ['os', 'x', 'mountain', 'lion', 'was', 'released', 'on', 'july', '', '', '', '', '', '', '', '', '', 'for', 'purchase', 'and', 'download', 'through', 'apple', 's', 'mac', 'app', 'store', '', 'as', 'part', 'of', 'a', 'switch', 'to', 'releasing', 'os', 'x', 'versions', 'online', 'and', 'every', 'year', '', ''], ['apple', 'has', 'released', 'a', 'small', 'patch', 'for', 'the', 'three', 'most', 'recent', 'versions', 'of', 'safari', 'running', 'on', 'os', 'x', 'yosemite', '', 'mavericks', '', 'and', 'mountain', 'lion', '', ''], ['the', 'mountain', 'lion', 'release', 'marks', 'the', 'second', 'time', 'apple', 'has', 'offered', 'an', 'incremental', 'upgrade', '', 'rather', 'than', 'releasing', 'a', 'new', 'cat', 'entirely', '', ''], ['mac', 'os', 'x', 'mountain', 'lion', 'installs', 'in', 'place', '', 'so', 'you', 'won', 't', 'need', 'to', 'create', 'a', 'separate', 'disk', 'or', 'run', 'the', 'installation', 'off', 'an', 'external', 'drive', '', ''], ['the', 'fifth', 'major', 'update', 'to', 'mac', 'os', 'x', '', 'leopard', '', 'contains', 'such', 'a', 'mountain', 'of', 'features', '', '', 'more', 'than', '', '', '', '', 'by', 'apple', 's', 'count', '']]\n"
          ],
          "name": "stdout"
        }
      ]
    },
    {
      "cell_type": "code",
      "metadata": {
        "id": "u0zVlca0RLQ-"
      },
      "source": [
        "lines = list(map(lambda line: list(filter(None, line)), lines))"
      ],
      "execution_count": null,
      "outputs": []
    },
    {
      "cell_type": "code",
      "metadata": {
        "colab": {
          "base_uri": "https://localhost:8080/"
        },
        "id": "ZQFlL61VTYB4",
        "outputId": "97e07065-b345-4460-8362-febc9e430ab9"
      },
      "source": [
        "print(lines)"
      ],
      "execution_count": null,
      "outputs": [
        {
          "output_type": "stream",
          "text": [
            "[['in', 'comparison', 'to', 'dogs', 'cats', 'have', 'not', 'undergone', 'major', 'changes', 'during', 'the', 'domestication', 'process'], ['as', 'cat', 'simply', 'catenates', 'streams', 'of', 'bytes', 'it', 'can', 'be', 'also', 'used', 'to', 'concatenate', 'binary', 'files', 'where', 'it', 'will', 'just', 'concatenate', 'sequence', 'of', 'bytes'], ['a', 'common', 'interactive', 'use', 'of', 'cat', 'for', 'a', 'single', 'file', 'is', 'to', 'output', 'the', 'content', 'of', 'a', 'file', 'to', 'standard', 'output'], ['cats', 'can', 'hear', 'sounds', 'too', 'faint', 'or', 'too', 'high', 'in', 'frequency', 'for', 'human', 'ears', 'such', 'as', 'those', 'made', 'by', 'mice', 'and', 'other', 'small', 'animals'], ['in', 'one', 'people', 'deliberately', 'tamed', 'cats', 'in', 'a', 'process', 'of', 'artificial', 'selection', 'as', 'they', 'were', 'useful', 'predators', 'of', 'vermin'], ['the', 'domesticated', 'cat', 'and', 'its', 'closest', 'wild', 'ancestor', 'are', 'both', 'diploid', 'organisms', 'that', 'possess', 'chromosomes', 'and', 'roughly', 'genes'], ['domestic', 'cats', 'are', 'similar', 'in', 'size', 'to', 'the', 'other', 'members', 'of', 'the', 'genus', 'felis', 'typically', 'weighing', 'between', 'and', 'kg', 'and', 'lb'], ['however', 'if', 'the', 'output', 'is', 'piped', 'or', 'redirected', 'cat', 'is', 'unnecessary'], ['cat', 'with', 'one', 'named', 'file', 'is', 'safer', 'where', 'human', 'error', 'is', 'a', 'concern', 'one', 'wrong', 'use', 'of', 'the', 'default', 'redirection', 'symbol', 'instead', 'of', 'often', 'adjacent', 'on', 'keyboards', 'may', 'permanently', 'delete', 'the', 'file', 'you', 'were', 'just', 'needing', 'to', 'read'], ['in', 'terms', 'of', 'legibility', 'a', 'sequence', 'of', 'commands', 'starting', 'with', 'cat', 'and', 'connected', 'by', 'pipes', 'has', 'a', 'clear', 'left', 'to', 'right', 'flow', 'of', 'information'], ['cat', 'command', 'is', 'one', 'of', 'the', 'basic', 'commands', 'that', 'you', 'learned', 'when', 'you', 'started', 'in', 'the', 'unix', 'linux', 'world'], ['using', 'cat', 'command', 'the', 'lines', 'received', 'from', 'stdin', 'can', 'be', 'redirected', 'to', 'a', 'new', 'file', 'using', 'redirection', 'symbols'], ['when', 'you', 'type', 'simply', 'cat', 'command', 'without', 'any', 'arguments', 'it', 'just', 'receives', 'the', 'stdin', 'content', 'and', 'displays', 'it', 'in', 'the', 'stdout'], ['leopard', 'was', 'released', 'on', 'october', 'as', 'the', 'successor', 'of', 'tiger', 'version', 'and', 'is', 'available', 'in', 'two', 'editions'], ['according', 'to', 'apple', 'leopard', 'contains', 'over', 'changes', 'and', 'enhancements', 'over', 'its', 'predecessor', 'mac', 'os', 'x', 'tiger'], ['as', 'of', 'mid', 'some', 'apple', 'computers', 'have', 'firmware', 'factory', 'installed', 'which', 'will', 'no', 'longer', 'allow', 'installation', 'of', 'mac', 'os', 'x', 'leopard'], ['since', 'apple', 'moved', 'to', 'using', 'intel', 'processors', 'in', 'their', 'computers', 'the', 'osx', 'community', 'has', 'developed', 'and', 'now', 'also', 'allows', 'mac', 'os', 'x', 'tiger', 'and', 'later', 'releases', 'to', 'be', 'installed', 'on', 'non', 'apple', 'x', 'based', 'computers'], ['os', 'x', 'mountain', 'lion', 'was', 'released', 'on', 'july', 'for', 'purchase', 'and', 'download', 'through', 'apple', 's', 'mac', 'app', 'store', 'as', 'part', 'of', 'a', 'switch', 'to', 'releasing', 'os', 'x', 'versions', 'online', 'and', 'every', 'year'], ['apple', 'has', 'released', 'a', 'small', 'patch', 'for', 'the', 'three', 'most', 'recent', 'versions', 'of', 'safari', 'running', 'on', 'os', 'x', 'yosemite', 'mavericks', 'and', 'mountain', 'lion'], ['the', 'mountain', 'lion', 'release', 'marks', 'the', 'second', 'time', 'apple', 'has', 'offered', 'an', 'incremental', 'upgrade', 'rather', 'than', 'releasing', 'a', 'new', 'cat', 'entirely'], ['mac', 'os', 'x', 'mountain', 'lion', 'installs', 'in', 'place', 'so', 'you', 'won', 't', 'need', 'to', 'create', 'a', 'separate', 'disk', 'or', 'run', 'the', 'installation', 'off', 'an', 'external', 'drive'], ['the', 'fifth', 'major', 'update', 'to', 'mac', 'os', 'x', 'leopard', 'contains', 'such', 'a', 'mountain', 'of', 'features', 'more', 'than', 'by', 'apple', 's', 'count']]\n"
          ],
          "name": "stdout"
        }
      ]
    },
    {
      "cell_type": "code",
      "metadata": {
        "id": "kkmIcL-tTZf5"
      },
      "source": [
        "for i in range(len(lines)):\n",
        "  lines[i] = list(filter(None, lines[i]))"
      ],
      "execution_count": null,
      "outputs": []
    },
    {
      "cell_type": "code",
      "metadata": {
        "colab": {
          "base_uri": "https://localhost:8080/"
        },
        "id": "34E6_AQDUQj5",
        "outputId": "1a830f8c-6b3f-4b08-e184-1ae6049a6d61"
      },
      "source": [
        "print(lines)"
      ],
      "execution_count": null,
      "outputs": [
        {
          "output_type": "stream",
          "text": [
            "[['in', 'comparison', 'to', 'dogs', 'cats', 'have', 'not', 'undergone', 'major', 'changes', 'during', 'the', 'domestication', 'process'], ['as', 'cat', 'simply', 'catenates', 'streams', 'of', 'bytes', 'it', 'can', 'be', 'also', 'used', 'to', 'concatenate', 'binary', 'files', 'where', 'it', 'will', 'just', 'concatenate', 'sequence', 'of', 'bytes'], ['a', 'common', 'interactive', 'use', 'of', 'cat', 'for', 'a', 'single', 'file', 'is', 'to', 'output', 'the', 'content', 'of', 'a', 'file', 'to', 'standard', 'output'], ['cats', 'can', 'hear', 'sounds', 'too', 'faint', 'or', 'too', 'high', 'in', 'frequency', 'for', 'human', 'ears', 'such', 'as', 'those', 'made', 'by', 'mice', 'and', 'other', 'small', 'animals'], ['in', 'one', 'people', 'deliberately', 'tamed', 'cats', 'in', 'a', 'process', 'of', 'artificial', 'selection', 'as', 'they', 'were', 'useful', 'predators', 'of', 'vermin'], ['the', 'domesticated', 'cat', 'and', 'its', 'closest', 'wild', 'ancestor', 'are', 'both', 'diploid', 'organisms', 'that', 'possess', 'chromosomes', 'and', 'roughly', 'genes'], ['domestic', 'cats', 'are', 'similar', 'in', 'size', 'to', 'the', 'other', 'members', 'of', 'the', 'genus', 'felis', 'typically', 'weighing', 'between', 'and', 'kg', 'and', 'lb'], ['however', 'if', 'the', 'output', 'is', 'piped', 'or', 'redirected', 'cat', 'is', 'unnecessary'], ['cat', 'with', 'one', 'named', 'file', 'is', 'safer', 'where', 'human', 'error', 'is', 'a', 'concern', 'one', 'wrong', 'use', 'of', 'the', 'default', 'redirection', 'symbol', 'instead', 'of', 'often', 'adjacent', 'on', 'keyboards', 'may', 'permanently', 'delete', 'the', 'file', 'you', 'were', 'just', 'needing', 'to', 'read'], ['in', 'terms', 'of', 'legibility', 'a', 'sequence', 'of', 'commands', 'starting', 'with', 'cat', 'and', 'connected', 'by', 'pipes', 'has', 'a', 'clear', 'left', 'to', 'right', 'flow', 'of', 'information'], ['cat', 'command', 'is', 'one', 'of', 'the', 'basic', 'commands', 'that', 'you', 'learned', 'when', 'you', 'started', 'in', 'the', 'unix', 'linux', 'world'], ['using', 'cat', 'command', 'the', 'lines', 'received', 'from', 'stdin', 'can', 'be', 'redirected', 'to', 'a', 'new', 'file', 'using', 'redirection', 'symbols'], ['when', 'you', 'type', 'simply', 'cat', 'command', 'without', 'any', 'arguments', 'it', 'just', 'receives', 'the', 'stdin', 'content', 'and', 'displays', 'it', 'in', 'the', 'stdout'], ['leopard', 'was', 'released', 'on', 'october', 'as', 'the', 'successor', 'of', 'tiger', 'version', 'and', 'is', 'available', 'in', 'two', 'editions'], ['according', 'to', 'apple', 'leopard', 'contains', 'over', 'changes', 'and', 'enhancements', 'over', 'its', 'predecessor', 'mac', 'os', 'x', 'tiger'], ['as', 'of', 'mid', 'some', 'apple', 'computers', 'have', 'firmware', 'factory', 'installed', 'which', 'will', 'no', 'longer', 'allow', 'installation', 'of', 'mac', 'os', 'x', 'leopard'], ['since', 'apple', 'moved', 'to', 'using', 'intel', 'processors', 'in', 'their', 'computers', 'the', 'osx', 'community', 'has', 'developed', 'and', 'now', 'also', 'allows', 'mac', 'os', 'x', 'tiger', 'and', 'later', 'releases', 'to', 'be', 'installed', 'on', 'non', 'apple', 'x', 'based', 'computers'], ['os', 'x', 'mountain', 'lion', 'was', 'released', 'on', 'july', 'for', 'purchase', 'and', 'download', 'through', 'apple', 's', 'mac', 'app', 'store', 'as', 'part', 'of', 'a', 'switch', 'to', 'releasing', 'os', 'x', 'versions', 'online', 'and', 'every', 'year'], ['apple', 'has', 'released', 'a', 'small', 'patch', 'for', 'the', 'three', 'most', 'recent', 'versions', 'of', 'safari', 'running', 'on', 'os', 'x', 'yosemite', 'mavericks', 'and', 'mountain', 'lion'], ['the', 'mountain', 'lion', 'release', 'marks', 'the', 'second', 'time', 'apple', 'has', 'offered', 'an', 'incremental', 'upgrade', 'rather', 'than', 'releasing', 'a', 'new', 'cat', 'entirely'], ['mac', 'os', 'x', 'mountain', 'lion', 'installs', 'in', 'place', 'so', 'you', 'won', 't', 'need', 'to', 'create', 'a', 'separate', 'disk', 'or', 'run', 'the', 'installation', 'off', 'an', 'external', 'drive'], ['the', 'fifth', 'major', 'update', 'to', 'mac', 'os', 'x', 'leopard', 'contains', 'such', 'a', 'mountain', 'of', 'features', 'more', 'than', 'by', 'apple', 's', 'count']]\n"
          ],
          "name": "stdout"
        }
      ]
    },
    {
      "cell_type": "code",
      "metadata": {
        "id": "x6v6R43T11uM"
      },
      "source": [
        "d = dict()\n",
        "i = 0\n",
        "for line in lines:\n",
        "    for word in line:\n",
        "        if word not in d:\n",
        "            d[word] = i\n",
        "            i += 1\n",
        "          "
      ],
      "execution_count": null,
      "outputs": []
    },
    {
      "cell_type": "code",
      "metadata": {
        "colab": {
          "base_uri": "https://localhost:8080/"
        },
        "id": "teXlws-l207A",
        "outputId": "53da7cb7-a0b9-42b3-9e7c-05769a2a7515"
      },
      "source": [
        "print(d)"
      ],
      "execution_count": null,
      "outputs": [
        {
          "output_type": "stream",
          "text": [
            "{'in': 0, 'comparison': 1, 'to': 2, 'dogs': 3, 'cats': 4, 'have': 5, 'not': 6, 'undergone': 7, 'major': 8, 'changes': 9, 'during': 10, 'the': 11, 'domestication': 12, 'process': 13, 'as': 14, 'cat': 15, 'simply': 16, 'catenates': 17, 'streams': 18, 'of': 19, 'bytes': 20, 'it': 21, 'can': 22, 'be': 23, 'also': 24, 'used': 25, 'concatenate': 26, 'binary': 27, 'files': 28, 'where': 29, 'will': 30, 'just': 31, 'sequence': 32, 'a': 33, 'common': 34, 'interactive': 35, 'use': 36, 'for': 37, 'single': 38, 'file': 39, 'is': 40, 'output': 41, 'content': 42, 'standard': 43, 'hear': 44, 'sounds': 45, 'too': 46, 'faint': 47, 'or': 48, 'high': 49, 'frequency': 50, 'human': 51, 'ears': 52, 'such': 53, 'those': 54, 'made': 55, 'by': 56, 'mice': 57, 'and': 58, 'other': 59, 'small': 60, 'animals': 61, 'one': 62, 'people': 63, 'deliberately': 64, 'tamed': 65, 'artificial': 66, 'selection': 67, 'they': 68, 'were': 69, 'useful': 70, 'predators': 71, 'vermin': 72, 'domesticated': 73, 'its': 74, 'closest': 75, 'wild': 76, 'ancestor': 77, 'are': 78, 'both': 79, 'diploid': 80, 'organisms': 81, 'that': 82, 'possess': 83, 'chromosomes': 84, 'roughly': 85, 'genes': 86, 'domestic': 87, 'similar': 88, 'size': 89, 'members': 90, 'genus': 91, 'felis': 92, 'typically': 93, 'weighing': 94, 'between': 95, 'kg': 96, 'lb': 97, 'however': 98, 'if': 99, 'piped': 100, 'redirected': 101, 'unnecessary': 102, 'with': 103, 'named': 104, 'safer': 105, 'error': 106, 'concern': 107, 'wrong': 108, 'default': 109, 'redirection': 110, 'symbol': 111, 'instead': 112, 'often': 113, 'adjacent': 114, 'on': 115, 'keyboards': 116, 'may': 117, 'permanently': 118, 'delete': 119, 'you': 120, 'needing': 121, 'read': 122, 'terms': 123, 'legibility': 124, 'commands': 125, 'starting': 126, 'connected': 127, 'pipes': 128, 'has': 129, 'clear': 130, 'left': 131, 'right': 132, 'flow': 133, 'information': 134, 'command': 135, 'basic': 136, 'learned': 137, 'when': 138, 'started': 139, 'unix': 140, 'linux': 141, 'world': 142, 'using': 143, 'lines': 144, 'received': 145, 'from': 146, 'stdin': 147, 'new': 148, 'symbols': 149, 'type': 150, 'without': 151, 'any': 152, 'arguments': 153, 'receives': 154, 'displays': 155, 'stdout': 156, 'leopard': 157, 'was': 158, 'released': 159, 'october': 160, 'successor': 161, 'tiger': 162, 'version': 163, 'available': 164, 'two': 165, 'editions': 166, 'according': 167, 'apple': 168, 'contains': 169, 'over': 170, 'enhancements': 171, 'predecessor': 172, 'mac': 173, 'os': 174, 'x': 175, 'mid': 176, 'some': 177, 'computers': 178, 'firmware': 179, 'factory': 180, 'installed': 181, 'which': 182, 'no': 183, 'longer': 184, 'allow': 185, 'installation': 186, 'since': 187, 'moved': 188, 'intel': 189, 'processors': 190, 'their': 191, 'osx': 192, 'community': 193, 'developed': 194, 'now': 195, 'allows': 196, 'later': 197, 'releases': 198, 'non': 199, 'based': 200, 'mountain': 201, 'lion': 202, 'july': 203, 'purchase': 204, 'download': 205, 'through': 206, 's': 207, 'app': 208, 'store': 209, 'part': 210, 'switch': 211, 'releasing': 212, 'versions': 213, 'online': 214, 'every': 215, 'year': 216, 'patch': 217, 'three': 218, 'most': 219, 'recent': 220, 'safari': 221, 'running': 222, 'yosemite': 223, 'mavericks': 224, 'release': 225, 'marks': 226, 'second': 227, 'time': 228, 'offered': 229, 'an': 230, 'incremental': 231, 'upgrade': 232, 'rather': 233, 'than': 234, 'entirely': 235, 'installs': 236, 'place': 237, 'so': 238, 'won': 239, 't': 240, 'need': 241, 'create': 242, 'separate': 243, 'disk': 244, 'run': 245, 'off': 246, 'external': 247, 'drive': 248, 'fifth': 249, 'update': 250, 'features': 251, 'more': 252, 'count': 253}\n"
          ],
          "name": "stdout"
        }
      ]
    },
    {
      "cell_type": "code",
      "metadata": {
        "id": "wCefQuGe4p_E"
      },
      "source": [
        "import numpy as np"
      ],
      "execution_count": null,
      "outputs": []
    },
    {
      "cell_type": "code",
      "metadata": {
        "id": "4gqGDBQ-6z9b"
      },
      "source": [
        "mas = np.zeros((len(lines), len(d)))"
      ],
      "execution_count": null,
      "outputs": []
    },
    {
      "cell_type": "code",
      "metadata": {
        "id": "cV5EymQXDu37"
      },
      "source": [
        "def get_key(d, value): # функция ключа по его значению\n",
        "    for k, v in d.items():\n",
        "        if v == value:\n",
        "            return k"
      ],
      "execution_count": null,
      "outputs": []
    },
    {
      "cell_type": "code",
      "metadata": {
        "id": "iAkBO_a5LdXp"
      },
      "source": [
        "# Функция, подсчитывающая кол-во вхождений слова в строку\n",
        "def word_counts(word, sentence):\n",
        "  k = 0\n",
        "  for i in range(len(sentence)):\n",
        "    if word in sentence:\n",
        "      k += 1\n",
        "      return k"
      ],
      "execution_count": null,
      "outputs": []
    },
    {
      "cell_type": "code",
      "metadata": {
        "colab": {
          "base_uri": "https://localhost:8080/"
        },
        "id": "KNH24MoX9SUH",
        "outputId": "9b92e043-e64d-4b30-cb15-3ded5125d998"
      },
      "source": [
        "for j in range(len(d)):\n",
        "  for i in range(len(lines)): \n",
        "    mas[i,j] = word_counts(get_key(d,j), lines[i])\n",
        "\n",
        "print(mas)\n",
        "\n",
        "    # сколько раз j-ое слово из словаря вошло в i-ое предложение\n",
        "    # Если слово из словаря содержится в \n",
        "    # lines - список предложений; sentence = lines[i] - предложение; word - слово\n"
      ],
      "execution_count": null,
      "outputs": [
        {
          "output_type": "stream",
          "text": [
            "[[ 1.  1.  1. ... nan nan nan]\n",
            " [nan nan  1. ... nan nan nan]\n",
            " [nan nan  1. ... nan nan nan]\n",
            " ...\n",
            " [nan nan nan ... nan nan nan]\n",
            " [ 1. nan  1. ... nan nan nan]\n",
            " [nan nan  1. ...  1.  1.  1.]]\n"
          ],
          "name": "stdout"
        }
      ]
    },
    {
      "cell_type": "code",
      "metadata": {
        "id": "Pitg6nPmHBq6"
      },
      "source": [
        "import scipy"
      ],
      "execution_count": null,
      "outputs": []
    },
    {
      "cell_type": "code",
      "metadata": {
        "id": "mojlKhvnWRSV"
      },
      "source": [
        "for i in range(len(lines)):\n",
        "  for j in range(len(d)):\n",
        "    if np.isnan(mas[i,j]):\n",
        "      mas[i,j] = 0"
      ],
      "execution_count": null,
      "outputs": []
    },
    {
      "cell_type": "code",
      "metadata": {
        "colab": {
          "base_uri": "https://localhost:8080/"
        },
        "id": "c_FVDTw9Plfz",
        "outputId": "6384244a-e73e-41b2-a49d-c178a024fc01"
      },
      "source": [
        "print(mas)"
      ],
      "execution_count": null,
      "outputs": [
        {
          "output_type": "stream",
          "text": [
            "[[1. 1. 1. ... 0. 0. 0.]\n",
            " [0. 0. 1. ... 0. 0. 0.]\n",
            " [0. 0. 1. ... 0. 0. 0.]\n",
            " ...\n",
            " [0. 0. 0. ... 0. 0. 0.]\n",
            " [1. 0. 1. ... 0. 0. 0.]\n",
            " [0. 0. 1. ... 1. 1. 1.]]\n"
          ],
          "name": "stdout"
        }
      ]
    },
    {
      "cell_type": "code",
      "metadata": {
        "id": "X2p1mjLUKLDp"
      },
      "source": [
        "from scipy.spatial import distance\n",
        "distants = []\n",
        "for i in range(len(mas)):\n",
        "  distants.append(scipy.spatial.distance.cosine(mas[0,:], mas[i]))\n"
      ],
      "execution_count": null,
      "outputs": []
    },
    {
      "cell_type": "code",
      "metadata": {
        "colab": {
          "base_uri": "https://localhost:8080/"
        },
        "id": "UFfDOHRML42r",
        "outputId": "7a4f3d8d-29a6-4f25-df6f-33ffc68453ee"
      },
      "source": [
        "print(distants)\n"
      ],
      "execution_count": null,
      "outputs": [
        {
          "output_type": "stream",
          "text": [
            "[0.0, 0.9402385695332803, 0.8619868881315291, 0.8885443574849294, 0.8055388829343507, 0.9351796276447836, 0.7547442642060137, 0.9154845745271484, 0.9069515789601529, 0.8833576312960392, 0.8703592552895671, 0.8703592552895671, 0.8773721321030068, 0.8703592552895671, 0.8619868881315291, 0.9402385695332803, 0.85361498905772, 0.9503708333014534, 0.9442721787424647, 0.9402385695332803, 0.8427572744917122, 0.8250364469440588]\n"
          ],
          "name": "stdout"
        }
      ]
    },
    {
      "cell_type": "code",
      "metadata": {
        "colab": {
          "base_uri": "https://localhost:8080/"
        },
        "id": "Nl1eJCd0VxPJ",
        "outputId": "d0032020-7231-480f-ed60-a98a0313160f"
      },
      "source": [
        "max = distants[0]\n",
        "ind_max = 0\n",
        "for i in range(1, len(distants)):\n",
        "    if distants[i] > max:\n",
        "      ind_max = i\n",
        "      max = distants[i]\n",
        "print(ind_max)\n",
        "print(max)\n"
      ],
      "execution_count": null,
      "outputs": [
        {
          "output_type": "stream",
          "text": [
            "17\n",
            "0.9503708333014534\n"
          ],
          "name": "stdout"
        }
      ]
    },
    {
      "cell_type": "code",
      "metadata": {
        "colab": {
          "base_uri": "https://localhost:8080/"
        },
        "id": "3L2iOb8gVIQB",
        "outputId": "9f5bedcf-e2f0-44f2-9cf9-410c91894130"
      },
      "source": [
        "sorted([(distants[i], i) for i in range(len(distants))])"
      ],
      "execution_count": null,
      "outputs": [
        {
          "output_type": "execute_result",
          "data": {
            "text/plain": [
              "[(0.0, 0),\n",
              " (0.7547442642060137, 6),\n",
              " (0.8055388829343507, 4),\n",
              " (0.8250364469440588, 21),\n",
              " (0.8427572744917122, 20),\n",
              " (0.85361498905772, 16),\n",
              " (0.8619868881315291, 2),\n",
              " (0.8619868881315291, 14),\n",
              " (0.8703592552895671, 10),\n",
              " (0.8703592552895671, 11),\n",
              " (0.8703592552895671, 13),\n",
              " (0.8773721321030068, 12),\n",
              " (0.8833576312960392, 9),\n",
              " (0.8885443574849294, 3),\n",
              " (0.9069515789601529, 8),\n",
              " (0.9154845745271484, 7),\n",
              " (0.9351796276447836, 5),\n",
              " (0.9402385695332803, 1),\n",
              " (0.9402385695332803, 15),\n",
              " (0.9402385695332803, 19),\n",
              " (0.9442721787424647, 18),\n",
              " (0.9503708333014534, 17)]"
            ]
          },
          "metadata": {},
          "execution_count": 84
        }
      ]
    },
    {
      "cell_type": "code",
      "metadata": {
        "colab": {
          "base_uri": "https://localhost:8080/"
        },
        "id": "8zFNUAjdXixi",
        "outputId": "b3987b95-5e6c-4322-df48-f8aead3351e7"
      },
      "source": [
        "help(scipy.spatial.distance.cosine)"
      ],
      "execution_count": null,
      "outputs": [
        {
          "output_type": "stream",
          "text": [
            "Help on function cosine in module scipy.spatial.distance:\n",
            "\n",
            "cosine(u, v, w=None)\n",
            "    Compute the Cosine distance between 1-D arrays.\n",
            "    \n",
            "    The Cosine distance between `u` and `v`, is defined as\n",
            "    \n",
            "    .. math::\n",
            "    \n",
            "        1 - \\frac{u \\cdot v}\n",
            "                  {||u||_2 ||v||_2}.\n",
            "    \n",
            "    where :math:`u \\cdot v` is the dot product of :math:`u` and\n",
            "    :math:`v`.\n",
            "    \n",
            "    Parameters\n",
            "    ----------\n",
            "    u : (N,) array_like\n",
            "        Input array.\n",
            "    v : (N,) array_like\n",
            "        Input array.\n",
            "    w : (N,) array_like, optional\n",
            "        The weights for each value in `u` and `v`. Default is None,\n",
            "        which gives each value a weight of 1.0\n",
            "    \n",
            "    Returns\n",
            "    -------\n",
            "    cosine : double\n",
            "        The Cosine distance between vectors `u` and `v`.\n",
            "    \n",
            "    Examples\n",
            "    --------\n",
            "    >>> from scipy.spatial import distance\n",
            "    >>> distance.cosine([1, 0, 0], [0, 1, 0])\n",
            "    1.0\n",
            "    >>> distance.cosine([100, 0, 0], [0, 1, 0])\n",
            "    1.0\n",
            "    >>> distance.cosine([1, 1, 0], [0, 1, 0])\n",
            "    0.29289321881345254\n",
            "\n"
          ],
          "name": "stdout"
        }
      ]
    },
    {
      "cell_type": "code",
      "metadata": {
        "id": "52x9E6T8a54e"
      },
      "source": [
        ""
      ],
      "execution_count": null,
      "outputs": []
    }
  ]
}